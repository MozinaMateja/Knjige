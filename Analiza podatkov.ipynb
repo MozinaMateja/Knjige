{
 "cells": [
  {
   "cell_type": "markdown",
   "metadata": {},
   "source": [
    "# Knjige\n",
    "## Projektna naloga\n",
    "\n",
    "#### Analizirala bom najbolj priljubljene knjige zadnjih 100 let (med leti 1920 in 2020) iz strani Goodreads z uporabo Pandas.\n",
    "\n",
    "#### Za vsako knjigo je zajeto:\n",
    "- id knjige\n",
    "- naslov\n",
    "- zbirka (če je v zbirki)\n",
    "- avtor in njegov id\n",
    "- ocena\n",
    "- število ocen\n",
    "- število glasov in\n",
    "- leto izida\n",
    "\n",
    "#### Hipoteze:\n",
    "- Katere zbirke se največkrat pojavijo?\n",
    "- Kateri avtorji se največkrat pojavijo?\n",
    "- Ali večje število ocen pomeni boljšo oceno?\n",
    "- Katero leto je bilo najbolje ocenjeno?\n",
    "- Katero leto je imelo največ ocen?\n",
    "- Ali imajo boljšo oceno zbirke ali samostojne knjige?\n",
    "- Kateri so najbolje ocenjeni avtorji?\n",
    "- Kateri so največkrat ocenjeni avtorji?"
   ]
  },
  {
   "cell_type": "code",
   "execution_count": 1,
   "metadata": {},
   "outputs": [],
   "source": [
    "import pandas as pd\n",
    "pd.options.display.max_rows = 10\n",
    "%matplotlib inline\n",
    "import os.path\n",
    "csv_datoteka = os.path.join(\"obdelani-podatki\", \"knjige.csv\")\n",
    "knjige = pd.read_csv(csv_datoteka)"
   ]
  },
  {
   "cell_type": "markdown",
   "metadata": {},
   "source": [
    "### Razpredelnica s podatki"
   ]
  },
  {
   "cell_type": "code",
   "execution_count": 2,
   "metadata": {},
   "outputs": [
    {
     "data": {
      "text/html": [
       "<div>\n",
       "<style scoped>\n",
       "    .dataframe tbody tr th:only-of-type {\n",
       "        vertical-align: middle;\n",
       "    }\n",
       "\n",
       "    .dataframe tbody tr th {\n",
       "        vertical-align: top;\n",
       "    }\n",
       "\n",
       "    .dataframe thead th {\n",
       "        text-align: right;\n",
       "    }\n",
       "</style>\n",
       "<table border=\"1\" class=\"dataframe\">\n",
       "  <thead>\n",
       "    <tr style=\"text-align: right;\">\n",
       "      <th></th>\n",
       "      <th>id</th>\n",
       "      <th>naslov</th>\n",
       "      <th>zbirka</th>\n",
       "      <th>id_avtorja</th>\n",
       "      <th>avtor</th>\n",
       "      <th>ocena</th>\n",
       "      <th>stevilo_ocen</th>\n",
       "      <th>leto</th>\n",
       "      <th>glasovi</th>\n",
       "    </tr>\n",
       "  </thead>\n",
       "  <tbody>\n",
       "    <tr>\n",
       "      <th>0</th>\n",
       "      <td>16343</td>\n",
       "      <td>The Mysterious Affair at Styles</td>\n",
       "      <td>Hercule Poirot</td>\n",
       "      <td>123715</td>\n",
       "      <td>Agatha Christie</td>\n",
       "      <td>3.99</td>\n",
       "      <td>256238</td>\n",
       "      <td>1920</td>\n",
       "      <td>465296</td>\n",
       "    </tr>\n",
       "    <tr>\n",
       "      <th>1</th>\n",
       "      <td>53835</td>\n",
       "      <td>The Age of Innocence</td>\n",
       "      <td>NaN</td>\n",
       "      <td>16</td>\n",
       "      <td>Edith Wharton</td>\n",
       "      <td>3.95</td>\n",
       "      <td>139727</td>\n",
       "      <td>1920</td>\n",
       "      <td>315835</td>\n",
       "    </tr>\n",
       "    <tr>\n",
       "      <th>2</th>\n",
       "      <td>46165</td>\n",
       "      <td>This Side of Paradise</td>\n",
       "      <td>NaN</td>\n",
       "      <td>3190</td>\n",
       "      <td>F. Scott Fitzgerald</td>\n",
       "      <td>3.66</td>\n",
       "      <td>62463</td>\n",
       "      <td>1920</td>\n",
       "      <td>159803</td>\n",
       "    </tr>\n",
       "    <tr>\n",
       "      <th>3</th>\n",
       "      <td>325421</td>\n",
       "      <td>The Story of Doctor Dolittle</td>\n",
       "      <td>Doctor Dolittle</td>\n",
       "      <td>70762</td>\n",
       "      <td>Hugh Lofting</td>\n",
       "      <td>3.97</td>\n",
       "      <td>45609</td>\n",
       "      <td>1920</td>\n",
       "      <td>62518</td>\n",
       "    </tr>\n",
       "    <tr>\n",
       "      <th>4</th>\n",
       "      <td>9784</td>\n",
       "      <td>Women in Love</td>\n",
       "      <td>NaN</td>\n",
       "      <td>17623</td>\n",
       "      <td>D.H. Lawrence</td>\n",
       "      <td>3.67</td>\n",
       "      <td>29337</td>\n",
       "      <td>1920</td>\n",
       "      <td>59323</td>\n",
       "    </tr>\n",
       "    <tr>\n",
       "      <th>...</th>\n",
       "      <td>...</td>\n",
       "      <td>...</td>\n",
       "      <td>...</td>\n",
       "      <td>...</td>\n",
       "      <td>...</td>\n",
       "      <td>...</td>\n",
       "      <td>...</td>\n",
       "      <td>...</td>\n",
       "      <td>...</td>\n",
       "    </tr>\n",
       "    <tr>\n",
       "      <th>20195</th>\n",
       "      <td>49217470</td>\n",
       "      <td>Brave Girl, Quiet Girl</td>\n",
       "      <td>NaN</td>\n",
       "      <td>126447</td>\n",
       "      <td>Catherine Ryan Hyde</td>\n",
       "      <td>4.23</td>\n",
       "      <td>13258</td>\n",
       "      <td>2020</td>\n",
       "      <td>38464</td>\n",
       "    </tr>\n",
       "    <tr>\n",
       "      <th>20196</th>\n",
       "      <td>51941088</td>\n",
       "      <td>The Comeback</td>\n",
       "      <td>NaN</td>\n",
       "      <td>19475743</td>\n",
       "      <td>Ella Berman</td>\n",
       "      <td>3.82</td>\n",
       "      <td>4931</td>\n",
       "      <td>2020</td>\n",
       "      <td>37904</td>\n",
       "    </tr>\n",
       "    <tr>\n",
       "      <th>20197</th>\n",
       "      <td>49381341</td>\n",
       "      <td>Peace Talks</td>\n",
       "      <td>The Dresden Files</td>\n",
       "      <td>10746</td>\n",
       "      <td>Jim Butcher</td>\n",
       "      <td>4.21</td>\n",
       "      <td>22215</td>\n",
       "      <td>2020</td>\n",
       "      <td>71539</td>\n",
       "    </tr>\n",
       "    <tr>\n",
       "      <th>20198</th>\n",
       "      <td>52287403</td>\n",
       "      <td>Devoted</td>\n",
       "      <td>NaN</td>\n",
       "      <td>9355</td>\n",
       "      <td>Dean Koontz</td>\n",
       "      <td>4.14</td>\n",
       "      <td>18047</td>\n",
       "      <td>2020</td>\n",
       "      <td>58070</td>\n",
       "    </tr>\n",
       "    <tr>\n",
       "      <th>20199</th>\n",
       "      <td>49021976</td>\n",
       "      <td>Rhythm of War</td>\n",
       "      <td>The Stormlight Archive</td>\n",
       "      <td>38550</td>\n",
       "      <td>Brandon Sanderson</td>\n",
       "      <td>4.55</td>\n",
       "      <td>544</td>\n",
       "      <td>2020</td>\n",
       "      <td>49280</td>\n",
       "    </tr>\n",
       "  </tbody>\n",
       "</table>\n",
       "<p>20200 rows × 9 columns</p>\n",
       "</div>"
      ],
      "text/plain": [
       "             id                           naslov                  zbirka  \\\n",
       "0         16343  The Mysterious Affair at Styles          Hercule Poirot   \n",
       "1         53835             The Age of Innocence                     NaN   \n",
       "2         46165            This Side of Paradise                     NaN   \n",
       "3        325421     The Story of Doctor Dolittle         Doctor Dolittle   \n",
       "4          9784                    Women in Love                     NaN   \n",
       "...         ...                              ...                     ...   \n",
       "20195  49217470           Brave Girl, Quiet Girl                     NaN   \n",
       "20196  51941088                     The Comeback                     NaN   \n",
       "20197  49381341                      Peace Talks       The Dresden Files   \n",
       "20198  52287403                          Devoted                     NaN   \n",
       "20199  49021976                    Rhythm of War  The Stormlight Archive   \n",
       "\n",
       "       id_avtorja                avtor  ocena  stevilo_ocen  leto  glasovi  \n",
       "0          123715      Agatha Christie   3.99        256238  1920   465296  \n",
       "1              16        Edith Wharton   3.95        139727  1920   315835  \n",
       "2            3190  F. Scott Fitzgerald   3.66         62463  1920   159803  \n",
       "3           70762         Hugh Lofting   3.97         45609  1920    62518  \n",
       "4           17623        D.H. Lawrence   3.67         29337  1920    59323  \n",
       "...           ...                  ...    ...           ...   ...      ...  \n",
       "20195      126447  Catherine Ryan Hyde   4.23         13258  2020    38464  \n",
       "20196    19475743          Ella Berman   3.82          4931  2020    37904  \n",
       "20197       10746          Jim Butcher   4.21         22215  2020    71539  \n",
       "20198        9355          Dean Koontz   4.14         18047  2020    58070  \n",
       "20199       38550    Brandon Sanderson   4.55           544  2020    49280  \n",
       "\n",
       "[20200 rows x 9 columns]"
      ]
     },
     "execution_count": 2,
     "metadata": {},
     "output_type": "execute_result"
    }
   ],
   "source": [
    "knjige"
   ]
  },
  {
   "cell_type": "markdown",
   "metadata": {},
   "source": [
    "### Hipoteze"
   ]
  },
  {
   "cell_type": "markdown",
   "metadata": {},
   "source": [
    "#### 1. Katere zbirke se največkrat pojavijo?"
   ]
  },
  {
   "cell_type": "markdown",
   "metadata": {},
   "source": [
    "Kolikokrat se vsaka zbirka pojavi:"
   ]
  },
  {
   "cell_type": "code",
   "execution_count": 3,
   "metadata": {},
   "outputs": [
    {
     "data": {
      "text/plain": [
       "zbirka\n",
       "1-800-Where-R-You                1\n",
       "87th Precinct                    7\n",
       "A Bridge of Leaves               1\n",
       "A Course in Religion             1\n",
       "A Court of Thorns and Roses      4\n",
       "                                ..\n",
       "Zones of Thought                 2\n",
       "xxxHOLiC                         1\n",
       "À la recherche du temps perdu    1\n",
       "İnce Memed                       1\n",
       "御手洗潔                             1\n",
       "Length: 2234, dtype: int64"
      ]
     },
     "execution_count": 3,
     "metadata": {},
     "output_type": "execute_result"
    }
   ],
   "source": [
    "knjige.groupby('zbirka').size()"
   ]
  },
  {
   "cell_type": "markdown",
   "metadata": {},
   "source": [
    "Razporejene po številu pojavitev:"
   ]
  },
  {
   "cell_type": "code",
   "execution_count": 4,
   "metadata": {},
   "outputs": [
    {
     "data": {
      "text/plain": [
       "zbirka\n",
       "1-800-Where-R-You                                       1\n",
       "Pern Publication Order                                  1\n",
       "Percy Jackson and the Olympians: The Graphic Novels     1\n",
       "Percy Jackson & Kane Chronicles Crossover               1\n",
       "Penn Cage                                               1\n",
       "                                                       ..\n",
       "Discworld                                              39\n",
       "Perry Mason                                            40\n",
       "Nero Wolfe                                             43\n",
       "Hercule Poirot                                         44\n",
       "Nancy Drew Mystery Stories                             56\n",
       "Length: 2234, dtype: int64"
      ]
     },
     "execution_count": 4,
     "metadata": {},
     "output_type": "execute_result"
    }
   ],
   "source": [
    "knjige.groupby('zbirka').size().sort_values()"
   ]
  },
  {
   "cell_type": "markdown",
   "metadata": {},
   "source": [
    "10 zbirk z največ pojavitvami urejene v graf:"
   ]
  },
  {
   "cell_type": "code",
   "execution_count": 5,
   "metadata": {},
   "outputs": [
    {
     "data": {
      "text/plain": [
       "<AxesSubplot:xlabel='zbirka'>"
      ]
     },
     "execution_count": 5,
     "metadata": {},
     "output_type": "execute_result"
    },
    {
     "data": {
      "image/png": "[encoded data removed]",
      "text/plain": [
       "<Figure size 432x288 with 1 Axes>"
      ]
     },
     "metadata": {
      "needs_background": "light"
     },
     "output_type": "display_data"
    }
   ],
   "source": [
    "knjige.groupby('zbirka').size().sort_values().tail(10).plot.bar()"
   ]
  },
  {
   "cell_type": "markdown",
   "metadata": {},
   "source": [
    "Največkrat se pojavi zbirka Nancy Drew Mystery Stories s 56 pojavitvami, nato Hercule Poirot s 44 in Nero Wolfe s 43. "
   ]
  },
  {
   "cell_type": "markdown",
   "metadata": {},
   "source": [
    "#### 2. Kateri avtorji se največkrat pojavijo?"
   ]
  },
  {
   "cell_type": "markdown",
   "metadata": {},
   "source": [
    "Kolikokrat se vsak avtor(oz. njegov id) pojavi:"
   ]
  },
  {
   "cell_type": "code",
   "execution_count": 6,
   "metadata": {},
   "outputs": [
    {
     "data": {
      "text/html": [
       "<div>\n",
       "<style scoped>\n",
       "    .dataframe tbody tr th:only-of-type {\n",
       "        vertical-align: middle;\n",
       "    }\n",
       "\n",
       "    .dataframe tbody tr th {\n",
       "        vertical-align: top;\n",
       "    }\n",
       "\n",
       "    .dataframe thead th {\n",
       "        text-align: right;\n",
       "    }\n",
       "</style>\n",
       "<table border=\"1\" class=\"dataframe\">\n",
       "  <thead>\n",
       "    <tr style=\"text-align: right;\">\n",
       "      <th></th>\n",
       "      <th>pojavitve</th>\n",
       "    </tr>\n",
       "    <tr>\n",
       "      <th>id_avtorja</th>\n",
       "      <th></th>\n",
       "    </tr>\n",
       "  </thead>\n",
       "  <tbody>\n",
       "    <tr>\n",
       "      <th>100439</th>\n",
       "      <td>1</td>\n",
       "    </tr>\n",
       "    <tr>\n",
       "      <th>228526</th>\n",
       "      <td>1</td>\n",
       "    </tr>\n",
       "    <tr>\n",
       "      <th>227840</th>\n",
       "      <td>1</td>\n",
       "    </tr>\n",
       "    <tr>\n",
       "      <th>227470</th>\n",
       "      <td>1</td>\n",
       "    </tr>\n",
       "    <tr>\n",
       "      <th>227159</th>\n",
       "      <td>1</td>\n",
       "    </tr>\n",
       "    <tr>\n",
       "      <th>...</th>\n",
       "      <td>...</td>\n",
       "    </tr>\n",
       "    <tr>\n",
       "      <th>9494</th>\n",
       "      <td>87</td>\n",
       "    </tr>\n",
       "    <tr>\n",
       "      <th>3389</th>\n",
       "      <td>87</td>\n",
       "    </tr>\n",
       "    <tr>\n",
       "      <th>625</th>\n",
       "      <td>89</td>\n",
       "    </tr>\n",
       "    <tr>\n",
       "      <th>10657</th>\n",
       "      <td>107</td>\n",
       "    </tr>\n",
       "    <tr>\n",
       "      <th>123715</th>\n",
       "      <td>169</td>\n",
       "    </tr>\n",
       "  </tbody>\n",
       "</table>\n",
       "<p>7660 rows × 1 columns</p>\n",
       "</div>"
      ],
      "text/plain": [
       "            pojavitve\n",
       "id_avtorja           \n",
       "100439              1\n",
       "228526              1\n",
       "227840              1\n",
       "227470              1\n",
       "227159              1\n",
       "...               ...\n",
       "9494               87\n",
       "3389               87\n",
       "625                89\n",
       "10657             107\n",
       "123715            169\n",
       "\n",
       "[7660 rows x 1 columns]"
      ]
     },
     "execution_count": 6,
     "metadata": {},
     "output_type": "execute_result"
    }
   ],
   "source": [
    "najveckrat_avtorji = knjige.groupby('id_avtorja').size().sort_values().to_frame('pojavitve')\n",
    "najveckrat_avtorji"
   ]
  },
  {
   "cell_type": "markdown",
   "metadata": {},
   "source": [
    "Zdaj imamo samo kolikokrat se pojavi id avtroja. Da dobimo zraven imena ustarimo novo razpredelnico z imeni avtorjev in njihovimi id-ji:"
   ]
  },
  {
   "cell_type": "code",
   "execution_count": 7,
   "metadata": {},
   "outputs": [
    {
     "data": {
      "text/html": [
       "<div>\n",
       "<style scoped>\n",
       "    .dataframe tbody tr th:only-of-type {\n",
       "        vertical-align: middle;\n",
       "    }\n",
       "\n",
       "    .dataframe tbody tr th {\n",
       "        vertical-align: top;\n",
       "    }\n",
       "\n",
       "    .dataframe thead th {\n",
       "        text-align: right;\n",
       "    }\n",
       "</style>\n",
       "<table border=\"1\" class=\"dataframe\">\n",
       "  <thead>\n",
       "    <tr style=\"text-align: right;\">\n",
       "      <th></th>\n",
       "      <th>id_avtorja</th>\n",
       "      <th>avtor</th>\n",
       "    </tr>\n",
       "  </thead>\n",
       "  <tbody>\n",
       "    <tr>\n",
       "      <th>0</th>\n",
       "      <td>123715</td>\n",
       "      <td>Agatha Christie</td>\n",
       "    </tr>\n",
       "    <tr>\n",
       "      <th>1</th>\n",
       "      <td>16</td>\n",
       "      <td>Edith Wharton</td>\n",
       "    </tr>\n",
       "    <tr>\n",
       "      <th>2</th>\n",
       "      <td>3190</td>\n",
       "      <td>F. Scott Fitzgerald</td>\n",
       "    </tr>\n",
       "    <tr>\n",
       "      <th>3</th>\n",
       "      <td>70762</td>\n",
       "      <td>Hugh Lofting</td>\n",
       "    </tr>\n",
       "    <tr>\n",
       "      <th>4</th>\n",
       "      <td>17623</td>\n",
       "      <td>D.H. Lawrence</td>\n",
       "    </tr>\n",
       "    <tr>\n",
       "      <th>...</th>\n",
       "      <td>...</td>\n",
       "      <td>...</td>\n",
       "    </tr>\n",
       "    <tr>\n",
       "      <th>20195</th>\n",
       "      <td>126447</td>\n",
       "      <td>Catherine Ryan Hyde</td>\n",
       "    </tr>\n",
       "    <tr>\n",
       "      <th>20196</th>\n",
       "      <td>19475743</td>\n",
       "      <td>Ella Berman</td>\n",
       "    </tr>\n",
       "    <tr>\n",
       "      <th>20197</th>\n",
       "      <td>10746</td>\n",
       "      <td>Jim Butcher</td>\n",
       "    </tr>\n",
       "    <tr>\n",
       "      <th>20198</th>\n",
       "      <td>9355</td>\n",
       "      <td>Dean Koontz</td>\n",
       "    </tr>\n",
       "    <tr>\n",
       "      <th>20199</th>\n",
       "      <td>38550</td>\n",
       "      <td>Brandon Sanderson</td>\n",
       "    </tr>\n",
       "  </tbody>\n",
       "</table>\n",
       "<p>20200 rows × 2 columns</p>\n",
       "</div>"
      ],
      "text/plain": [
       "       id_avtorja                avtor\n",
       "0          123715      Agatha Christie\n",
       "1              16        Edith Wharton\n",
       "2            3190  F. Scott Fitzgerald\n",
       "3           70762         Hugh Lofting\n",
       "4           17623        D.H. Lawrence\n",
       "...           ...                  ...\n",
       "20195      126447  Catherine Ryan Hyde\n",
       "20196    19475743          Ella Berman\n",
       "20197       10746          Jim Butcher\n",
       "20198        9355          Dean Koontz\n",
       "20199       38550    Brandon Sanderson\n",
       "\n",
       "[20200 rows x 2 columns]"
      ]
     },
     "execution_count": 7,
     "metadata": {},
     "output_type": "execute_result"
    }
   ],
   "source": [
    "imena_avtorjev = knjige[['id_avtorja', 'avtor']]\n",
    "imena_avtorjev"
   ]
  },
  {
   "cell_type": "markdown",
   "metadata": {},
   "source": [
    "Sedaj ju še združimo:"
   ]
  },
  {
   "cell_type": "code",
   "execution_count": 8,
   "metadata": {},
   "outputs": [
    {
     "data": {
      "text/html": [
       "<div>\n",
       "<style scoped>\n",
       "    .dataframe tbody tr th:only-of-type {\n",
       "        vertical-align: middle;\n",
       "    }\n",
       "\n",
       "    .dataframe tbody tr th {\n",
       "        vertical-align: top;\n",
       "    }\n",
       "\n",
       "    .dataframe thead th {\n",
       "        text-align: right;\n",
       "    }\n",
       "</style>\n",
       "<table border=\"1\" class=\"dataframe\">\n",
       "  <thead>\n",
       "    <tr style=\"text-align: right;\">\n",
       "      <th></th>\n",
       "      <th>id_avtorja</th>\n",
       "      <th>pojavitve</th>\n",
       "      <th>avtor</th>\n",
       "    </tr>\n",
       "  </thead>\n",
       "  <tbody>\n",
       "    <tr>\n",
       "      <th>0</th>\n",
       "      <td>100439</td>\n",
       "      <td>1</td>\n",
       "      <td>Jane Bowles</td>\n",
       "    </tr>\n",
       "    <tr>\n",
       "      <th>1</th>\n",
       "      <td>228526</td>\n",
       "      <td>1</td>\n",
       "      <td>Donald R. Morris</td>\n",
       "    </tr>\n",
       "    <tr>\n",
       "      <th>2</th>\n",
       "      <td>227840</td>\n",
       "      <td>1</td>\n",
       "      <td>Jean Estoril</td>\n",
       "    </tr>\n",
       "    <tr>\n",
       "      <th>3</th>\n",
       "      <td>227470</td>\n",
       "      <td>1</td>\n",
       "      <td>Win Blevins</td>\n",
       "    </tr>\n",
       "    <tr>\n",
       "      <th>4</th>\n",
       "      <td>227159</td>\n",
       "      <td>1</td>\n",
       "      <td>Hiroyuki Takei</td>\n",
       "    </tr>\n",
       "    <tr>\n",
       "      <th>...</th>\n",
       "      <td>...</td>\n",
       "      <td>...</td>\n",
       "      <td>...</td>\n",
       "    </tr>\n",
       "    <tr>\n",
       "      <th>7655</th>\n",
       "      <td>9494</td>\n",
       "      <td>87</td>\n",
       "      <td>H.P. Lovecraft</td>\n",
       "    </tr>\n",
       "    <tr>\n",
       "      <th>7656</th>\n",
       "      <td>3389</td>\n",
       "      <td>87</td>\n",
       "      <td>Stephen King</td>\n",
       "    </tr>\n",
       "    <tr>\n",
       "      <th>7657</th>\n",
       "      <td>625</td>\n",
       "      <td>89</td>\n",
       "      <td>Nora Roberts</td>\n",
       "    </tr>\n",
       "    <tr>\n",
       "      <th>7658</th>\n",
       "      <td>10657</td>\n",
       "      <td>107</td>\n",
       "      <td>Enid Blyton</td>\n",
       "    </tr>\n",
       "    <tr>\n",
       "      <th>7659</th>\n",
       "      <td>123715</td>\n",
       "      <td>169</td>\n",
       "      <td>Agatha Christie</td>\n",
       "    </tr>\n",
       "  </tbody>\n",
       "</table>\n",
       "<p>7660 rows × 3 columns</p>\n",
       "</div>"
      ],
      "text/plain": [
       "      id_avtorja  pojavitve             avtor\n",
       "0         100439          1       Jane Bowles\n",
       "1         228526          1  Donald R. Morris\n",
       "2         227840          1      Jean Estoril\n",
       "3         227470          1       Win Blevins\n",
       "4         227159          1    Hiroyuki Takei\n",
       "...          ...        ...               ...\n",
       "7655        9494         87    H.P. Lovecraft\n",
       "7656        3389         87      Stephen King\n",
       "7657         625         89      Nora Roberts\n",
       "7658       10657        107       Enid Blyton\n",
       "7659      123715        169   Agatha Christie\n",
       "\n",
       "[7660 rows x 3 columns]"
      ]
     },
     "execution_count": 8,
     "metadata": {},
     "output_type": "execute_result"
    }
   ],
   "source": [
    "imena_in_pojavitve = pd.merge(najveckrat_avtorji, imena_avtorjev, left_on='id_avtorja', right_on='id_avtorja').drop_duplicates().reset_index(drop=True)\n",
    "imena_in_pojavitve"
   ]
  },
  {
   "cell_type": "markdown",
   "metadata": {},
   "source": [
    "Največkrat se pojavi Agathe Christie s kar 169 knjigami. Naslednja je Enid Blyton z približno tretjino manj (107). To sta edina avtorja ki se pojavita več kot stokrat, sledi jima Nora Roberts z 89 knjigami.\n",
    "Poleg tega izvemo še, da čeprav je vseh knjig 20200, je različnih avtorjev samo 7660, torej je v povprečju vsak avtor napisal več kot 2 knjigi."
   ]
  },
  {
   "cell_type": "code",
   "execution_count": 9,
   "metadata": {},
   "outputs": [
    {
     "data": {
      "text/plain": [
       "2.637075718015666"
      ]
     },
     "execution_count": 9,
     "metadata": {},
     "output_type": "execute_result"
    }
   ],
   "source": [
    "20200/ 7660"
   ]
  },
  {
   "cell_type": "markdown",
   "metadata": {},
   "source": [
    "#### 3. Kateri so najbolje ocenjeni avtorji?"
   ]
  },
  {
   "cell_type": "markdown",
   "metadata": {},
   "source": [
    "Najprej izračunamo povprečje za vsakega avtorja in iz razpredelnice izberemo samo id avtorja in njegovo povprečno oceno:"
   ]
  },
  {
   "cell_type": "code",
   "execution_count": 10,
   "metadata": {},
   "outputs": [
    {
     "data": {
      "text/html": [
       "<div>\n",
       "<style scoped>\n",
       "    .dataframe tbody tr th:only-of-type {\n",
       "        vertical-align: middle;\n",
       "    }\n",
       "\n",
       "    .dataframe tbody tr th {\n",
       "        vertical-align: top;\n",
       "    }\n",
       "\n",
       "    .dataframe thead th {\n",
       "        text-align: right;\n",
       "    }\n",
       "</style>\n",
       "<table border=\"1\" class=\"dataframe\">\n",
       "  <thead>\n",
       "    <tr style=\"text-align: right;\">\n",
       "      <th></th>\n",
       "      <th>id_avtorja</th>\n",
       "      <th>ocena</th>\n",
       "    </tr>\n",
       "  </thead>\n",
       "  <tbody>\n",
       "    <tr>\n",
       "      <th>0</th>\n",
       "      <td>277404</td>\n",
       "      <td>2.070000</td>\n",
       "    </tr>\n",
       "    <tr>\n",
       "      <th>1</th>\n",
       "      <td>1124248</td>\n",
       "      <td>2.710000</td>\n",
       "    </tr>\n",
       "    <tr>\n",
       "      <th>2</th>\n",
       "      <td>682865</td>\n",
       "      <td>2.800000</td>\n",
       "    </tr>\n",
       "    <tr>\n",
       "      <th>3</th>\n",
       "      <td>4285032</td>\n",
       "      <td>2.810000</td>\n",
       "    </tr>\n",
       "    <tr>\n",
       "      <th>4</th>\n",
       "      <td>264856</td>\n",
       "      <td>2.830000</td>\n",
       "    </tr>\n",
       "    <tr>\n",
       "      <th>...</th>\n",
       "      <td>...</td>\n",
       "      <td>...</td>\n",
       "    </tr>\n",
       "    <tr>\n",
       "      <th>7655</th>\n",
       "      <td>13778</td>\n",
       "      <td>4.709412</td>\n",
       "    </tr>\n",
       "    <tr>\n",
       "      <th>7656</th>\n",
       "      <td>19527332</td>\n",
       "      <td>4.710000</td>\n",
       "    </tr>\n",
       "    <tr>\n",
       "      <th>7657</th>\n",
       "      <td>4094635</td>\n",
       "      <td>4.720000</td>\n",
       "    </tr>\n",
       "    <tr>\n",
       "      <th>7658</th>\n",
       "      <td>18851256</td>\n",
       "      <td>4.770000</td>\n",
       "    </tr>\n",
       "    <tr>\n",
       "      <th>7659</th>\n",
       "      <td>2793859</td>\n",
       "      <td>4.790000</td>\n",
       "    </tr>\n",
       "  </tbody>\n",
       "</table>\n",
       "<p>7660 rows × 2 columns</p>\n",
       "</div>"
      ],
      "text/plain": [
       "      id_avtorja     ocena\n",
       "0         277404  2.070000\n",
       "1        1124248  2.710000\n",
       "2         682865  2.800000\n",
       "3        4285032  2.810000\n",
       "4         264856  2.830000\n",
       "...          ...       ...\n",
       "7655       13778  4.709412\n",
       "7656    19527332  4.710000\n",
       "7657     4094635  4.720000\n",
       "7658    18851256  4.770000\n",
       "7659     2793859  4.790000\n",
       "\n",
       "[7660 rows x 2 columns]"
      ]
     },
     "execution_count": 10,
     "metadata": {},
     "output_type": "execute_result"
    }
   ],
   "source": [
    "povprecna_ocena_avtorja = knjige.groupby('id_avtorja').mean().sort_values('ocena').reset_index()[[\"id_avtorja\", \"ocena\"]]\n",
    "povprecna_ocena_avtorja"
   ]
  },
  {
   "cell_type": "markdown",
   "metadata": {},
   "source": [
    "Podobno kot prej to združimo z razpredelnico imena_avtorjev, da dobimo njihova imena:"
   ]
  },
  {
   "cell_type": "code",
   "execution_count": 11,
   "metadata": {},
   "outputs": [
    {
     "data": {
      "text/html": [
       "<div>\n",
       "<style scoped>\n",
       "    .dataframe tbody tr th:only-of-type {\n",
       "        vertical-align: middle;\n",
       "    }\n",
       "\n",
       "    .dataframe tbody tr th {\n",
       "        vertical-align: top;\n",
       "    }\n",
       "\n",
       "    .dataframe thead th {\n",
       "        text-align: right;\n",
       "    }\n",
       "</style>\n",
       "<table border=\"1\" class=\"dataframe\">\n",
       "  <thead>\n",
       "    <tr style=\"text-align: right;\">\n",
       "      <th></th>\n",
       "      <th>id_avtorja</th>\n",
       "      <th>ocena</th>\n",
       "      <th>avtor</th>\n",
       "    </tr>\n",
       "  </thead>\n",
       "  <tbody>\n",
       "    <tr>\n",
       "      <th>0</th>\n",
       "      <td>277404</td>\n",
       "      <td>2.070000</td>\n",
       "      <td>Anne Carroll Moore</td>\n",
       "    </tr>\n",
       "    <tr>\n",
       "      <th>1</th>\n",
       "      <td>1124248</td>\n",
       "      <td>2.710000</td>\n",
       "      <td>Grace Moon</td>\n",
       "    </tr>\n",
       "    <tr>\n",
       "      <th>2</th>\n",
       "      <td>682865</td>\n",
       "      <td>2.800000</td>\n",
       "      <td>Ernest Vincent Wright</td>\n",
       "    </tr>\n",
       "    <tr>\n",
       "      <th>3</th>\n",
       "      <td>4285032</td>\n",
       "      <td>2.810000</td>\n",
       "      <td>Grace Taber Hallock</td>\n",
       "    </tr>\n",
       "    <tr>\n",
       "      <th>4</th>\n",
       "      <td>264856</td>\n",
       "      <td>2.830000</td>\n",
       "      <td>Margaret Sanger</td>\n",
       "    </tr>\n",
       "    <tr>\n",
       "      <th>...</th>\n",
       "      <td>...</td>\n",
       "      <td>...</td>\n",
       "      <td>...</td>\n",
       "    </tr>\n",
       "    <tr>\n",
       "      <th>7655</th>\n",
       "      <td>13778</td>\n",
       "      <td>4.709412</td>\n",
       "      <td>Bill Watterson</td>\n",
       "    </tr>\n",
       "    <tr>\n",
       "      <th>7656</th>\n",
       "      <td>19527332</td>\n",
       "      <td>4.710000</td>\n",
       "      <td>Chanel Miller</td>\n",
       "    </tr>\n",
       "    <tr>\n",
       "      <th>7657</th>\n",
       "      <td>4094635</td>\n",
       "      <td>4.720000</td>\n",
       "      <td>John Andrew Simpson</td>\n",
       "    </tr>\n",
       "    <tr>\n",
       "      <th>7658</th>\n",
       "      <td>18851256</td>\n",
       "      <td>4.770000</td>\n",
       "      <td>Mary Loyola</td>\n",
       "    </tr>\n",
       "    <tr>\n",
       "      <th>7659</th>\n",
       "      <td>2793859</td>\n",
       "      <td>4.790000</td>\n",
       "      <td>Mustafa Kemal Atatürk</td>\n",
       "    </tr>\n",
       "  </tbody>\n",
       "</table>\n",
       "<p>7660 rows × 3 columns</p>\n",
       "</div>"
      ],
      "text/plain": [
       "      id_avtorja     ocena                  avtor\n",
       "0         277404  2.070000     Anne Carroll Moore\n",
       "1        1124248  2.710000             Grace Moon\n",
       "2         682865  2.800000  Ernest Vincent Wright\n",
       "3        4285032  2.810000    Grace Taber Hallock\n",
       "4         264856  2.830000        Margaret Sanger\n",
       "...          ...       ...                    ...\n",
       "7655       13778  4.709412         Bill Watterson\n",
       "7656    19527332  4.710000          Chanel Miller\n",
       "7657     4094635  4.720000    John Andrew Simpson\n",
       "7658    18851256  4.770000            Mary Loyola\n",
       "7659     2793859  4.790000  Mustafa Kemal Atatürk\n",
       "\n",
       "[7660 rows x 3 columns]"
      ]
     },
     "execution_count": 11,
     "metadata": {},
     "output_type": "execute_result"
    }
   ],
   "source": [
    "ime_avtorja_in_pov_ocena = pd.merge(povprecna_ocena_avtorja, imena_avtorjev, left_on='id_avtorja', right_on='id_avtorja').drop_duplicates().reset_index(drop=True)\n",
    "ime_avtorja_in_pov_ocena"
   ]
  },
  {
   "cell_type": "markdown",
   "metadata": {},
   "source": [
    "Najboljšo povprečno oceno ima Mustafa Kemal Atatürk - 4.79, najmanjšo pa Anne Carroll Moore - 2.07. Ampak ali je ta povprečna ocena odvisno od tega koliko knjig je avtor napisal?"
   ]
  },
  {
   "cell_type": "code",
   "execution_count": 12,
   "metadata": {},
   "outputs": [
    {
     "data": {
      "text/html": [
       "<div>\n",
       "<style scoped>\n",
       "    .dataframe tbody tr th:only-of-type {\n",
       "        vertical-align: middle;\n",
       "    }\n",
       "\n",
       "    .dataframe tbody tr th {\n",
       "        vertical-align: top;\n",
       "    }\n",
       "\n",
       "    .dataframe thead th {\n",
       "        text-align: right;\n",
       "    }\n",
       "</style>\n",
       "<table border=\"1\" class=\"dataframe\">\n",
       "  <thead>\n",
       "    <tr style=\"text-align: right;\">\n",
       "      <th></th>\n",
       "      <th>id_avtorja</th>\n",
       "      <th>pojavitve</th>\n",
       "      <th>ocena</th>\n",
       "      <th>avtor</th>\n",
       "    </tr>\n",
       "  </thead>\n",
       "  <tbody>\n",
       "    <tr>\n",
       "      <th>674</th>\n",
       "      <td>277404</td>\n",
       "      <td>1</td>\n",
       "      <td>2.070000</td>\n",
       "      <td>Anne Carroll Moore</td>\n",
       "    </tr>\n",
       "    <tr>\n",
       "      <th>2610</th>\n",
       "      <td>1124248</td>\n",
       "      <td>1</td>\n",
       "      <td>2.710000</td>\n",
       "      <td>Grace Moon</td>\n",
       "    </tr>\n",
       "    <tr>\n",
       "      <th>2844</th>\n",
       "      <td>682865</td>\n",
       "      <td>1</td>\n",
       "      <td>2.800000</td>\n",
       "      <td>Ernest Vincent Wright</td>\n",
       "    </tr>\n",
       "    <tr>\n",
       "      <th>3012</th>\n",
       "      <td>4285032</td>\n",
       "      <td>1</td>\n",
       "      <td>2.810000</td>\n",
       "      <td>Grace Taber Hallock</td>\n",
       "    </tr>\n",
       "    <tr>\n",
       "      <th>5625</th>\n",
       "      <td>264856</td>\n",
       "      <td>2</td>\n",
       "      <td>2.830000</td>\n",
       "      <td>Margaret Sanger</td>\n",
       "    </tr>\n",
       "    <tr>\n",
       "      <th>...</th>\n",
       "      <td>...</td>\n",
       "      <td>...</td>\n",
       "      <td>...</td>\n",
       "      <td>...</td>\n",
       "    </tr>\n",
       "    <tr>\n",
       "      <th>7516</th>\n",
       "      <td>13778</td>\n",
       "      <td>17</td>\n",
       "      <td>4.709412</td>\n",
       "      <td>Bill Watterson</td>\n",
       "    </tr>\n",
       "    <tr>\n",
       "      <th>2187</th>\n",
       "      <td>19527332</td>\n",
       "      <td>1</td>\n",
       "      <td>4.710000</td>\n",
       "      <td>Chanel Miller</td>\n",
       "    </tr>\n",
       "    <tr>\n",
       "      <th>3019</th>\n",
       "      <td>4094635</td>\n",
       "      <td>1</td>\n",
       "      <td>4.720000</td>\n",
       "      <td>John Andrew Simpson</td>\n",
       "    </tr>\n",
       "    <tr>\n",
       "      <th>2161</th>\n",
       "      <td>18851256</td>\n",
       "      <td>1</td>\n",
       "      <td>4.770000</td>\n",
       "      <td>Mary Loyola</td>\n",
       "    </tr>\n",
       "    <tr>\n",
       "      <th>5222</th>\n",
       "      <td>2793859</td>\n",
       "      <td>2</td>\n",
       "      <td>4.790000</td>\n",
       "      <td>Mustafa Kemal Atatürk</td>\n",
       "    </tr>\n",
       "  </tbody>\n",
       "</table>\n",
       "<p>7660 rows × 4 columns</p>\n",
       "</div>"
      ],
      "text/plain": [
       "      id_avtorja  pojavitve     ocena                  avtor\n",
       "674       277404          1  2.070000     Anne Carroll Moore\n",
       "2610     1124248          1  2.710000             Grace Moon\n",
       "2844      682865          1  2.800000  Ernest Vincent Wright\n",
       "3012     4285032          1  2.810000    Grace Taber Hallock\n",
       "5625      264856          2  2.830000        Margaret Sanger\n",
       "...          ...        ...       ...                    ...\n",
       "7516       13778         17  4.709412         Bill Watterson\n",
       "2187    19527332          1  4.710000          Chanel Miller\n",
       "3019     4094635          1  4.720000    John Andrew Simpson\n",
       "2161    18851256          1  4.770000            Mary Loyola\n",
       "5222     2793859          2  4.790000  Mustafa Kemal Atatürk\n",
       "\n",
       "[7660 rows x 4 columns]"
      ]
     },
     "execution_count": 12,
     "metadata": {},
     "output_type": "execute_result"
    }
   ],
   "source": [
    "povp_ocena_in_pojavitve = pd.merge(imena_in_pojavitve[['id_avtorja', 'pojavitve']], ime_avtorja_in_pov_ocena, left_on='id_avtorja', right_on='id_avtorja').sort_values('ocena')\n",
    "povp_ocena_in_pojavitve"
   ]
  },
  {
   "cell_type": "code",
   "execution_count": 13,
   "metadata": {},
   "outputs": [
    {
     "data": {
      "text/plain": [
       "<AxesSubplot:xlabel='pojavitve', ylabel='ocena'>"
      ]
     },
     "execution_count": 13,
     "metadata": {},
     "output_type": "execute_result"
    },
    {
     "data": {
      "image/png": "[encoded data removed]",
      "text/plain": [
       "<Figure size 432x288 with 1 Axes>"
      ]
     },
     "metadata": {
      "needs_background": "light"
     },
     "output_type": "display_data"
    }
   ],
   "source": [
    "povp_ocena_in_pojavitve.plot.scatter(x='pojavitve', y='ocena')"
   ]
  },
  {
   "cell_type": "markdown",
   "metadata": {},
   "source": [
    "Vidimo, da imajo avtorji z samo 1 knjigo zelo razporejene ocene, avtorji z več kot 25 knjigami pa imajo povprečno oceno okoli 4."
   ]
  },
  {
   "cell_type": "markdown",
   "metadata": {},
   "source": [
    "#### 4. Kateri so največkrat ocenjeni avtorji?"
   ]
  },
  {
   "cell_type": "code",
   "execution_count": 14,
   "metadata": {},
   "outputs": [
    {
     "data": {
      "text/html": [
       "<div>\n",
       "<style scoped>\n",
       "    .dataframe tbody tr th:only-of-type {\n",
       "        vertical-align: middle;\n",
       "    }\n",
       "\n",
       "    .dataframe tbody tr th {\n",
       "        vertical-align: top;\n",
       "    }\n",
       "\n",
       "    .dataframe thead th {\n",
       "        text-align: right;\n",
       "    }\n",
       "</style>\n",
       "<table border=\"1\" class=\"dataframe\">\n",
       "  <thead>\n",
       "    <tr style=\"text-align: right;\">\n",
       "      <th></th>\n",
       "      <th>id_avtorja</th>\n",
       "      <th>stevilo_ocen</th>\n",
       "    </tr>\n",
       "  </thead>\n",
       "  <tbody>\n",
       "    <tr>\n",
       "      <th>0</th>\n",
       "      <td>1830746</td>\n",
       "      <td>7</td>\n",
       "    </tr>\n",
       "    <tr>\n",
       "      <th>1</th>\n",
       "      <td>580393</td>\n",
       "      <td>7</td>\n",
       "    </tr>\n",
       "    <tr>\n",
       "      <th>2</th>\n",
       "      <td>3341792</td>\n",
       "      <td>8</td>\n",
       "    </tr>\n",
       "    <tr>\n",
       "      <th>3</th>\n",
       "      <td>6643050</td>\n",
       "      <td>8</td>\n",
       "    </tr>\n",
       "    <tr>\n",
       "      <th>4</th>\n",
       "      <td>1010053</td>\n",
       "      <td>12</td>\n",
       "    </tr>\n",
       "    <tr>\n",
       "      <th>...</th>\n",
       "      <td>...</td>\n",
       "      <td>...</td>\n",
       "    </tr>\n",
       "    <tr>\n",
       "      <th>7655</th>\n",
       "      <td>15872</td>\n",
       "      <td>8344782</td>\n",
       "    </tr>\n",
       "    <tr>\n",
       "      <th>7656</th>\n",
       "      <td>941441</td>\n",
       "      <td>10797229</td>\n",
       "    </tr>\n",
       "    <tr>\n",
       "      <th>7657</th>\n",
       "      <td>153394</td>\n",
       "      <td>11862467</td>\n",
       "    </tr>\n",
       "    <tr>\n",
       "      <th>7658</th>\n",
       "      <td>3389</td>\n",
       "      <td>12672412</td>\n",
       "    </tr>\n",
       "    <tr>\n",
       "      <th>7659</th>\n",
       "      <td>1077326</td>\n",
       "      <td>24454837</td>\n",
       "    </tr>\n",
       "  </tbody>\n",
       "</table>\n",
       "<p>7660 rows × 2 columns</p>\n",
       "</div>"
      ],
      "text/plain": [
       "      id_avtorja  stevilo_ocen\n",
       "0        1830746             7\n",
       "1         580393             7\n",
       "2        3341792             8\n",
       "3        6643050             8\n",
       "4        1010053            12\n",
       "...          ...           ...\n",
       "7655       15872       8344782\n",
       "7656      941441      10797229\n",
       "7657      153394      11862467\n",
       "7658        3389      12672412\n",
       "7659     1077326      24454837\n",
       "\n",
       "[7660 rows x 2 columns]"
      ]
     },
     "execution_count": 14,
     "metadata": {},
     "output_type": "execute_result"
    }
   ],
   "source": [
    "avtorji_po_stevilu_ocen = knjige.groupby('id_avtorja').sum().sort_values('stevilo_ocen').reset_index()[[\"id_avtorja\", \"stevilo_ocen\"]]\n",
    "avtorji_po_stevilu_ocen"
   ]
  },
  {
   "cell_type": "code",
   "execution_count": 15,
   "metadata": {},
   "outputs": [
    {
     "data": {
      "text/html": [
       "<div>\n",
       "<style scoped>\n",
       "    .dataframe tbody tr th:only-of-type {\n",
       "        vertical-align: middle;\n",
       "    }\n",
       "\n",
       "    .dataframe tbody tr th {\n",
       "        vertical-align: top;\n",
       "    }\n",
       "\n",
       "    .dataframe thead th {\n",
       "        text-align: right;\n",
       "    }\n",
       "</style>\n",
       "<table border=\"1\" class=\"dataframe\">\n",
       "  <thead>\n",
       "    <tr style=\"text-align: right;\">\n",
       "      <th></th>\n",
       "      <th>id_avtorja</th>\n",
       "      <th>stevilo_ocen</th>\n",
       "      <th>avtor</th>\n",
       "    </tr>\n",
       "  </thead>\n",
       "  <tbody>\n",
       "    <tr>\n",
       "      <th>0</th>\n",
       "      <td>1830746</td>\n",
       "      <td>7</td>\n",
       "      <td>Heruy Wolde Selassie</td>\n",
       "    </tr>\n",
       "    <tr>\n",
       "      <th>1</th>\n",
       "      <td>580393</td>\n",
       "      <td>7</td>\n",
       "      <td>James Truslow Adams</td>\n",
       "    </tr>\n",
       "    <tr>\n",
       "      <th>2</th>\n",
       "      <td>3341792</td>\n",
       "      <td>8</td>\n",
       "      <td>Elizabeth M. Ricker</td>\n",
       "    </tr>\n",
       "    <tr>\n",
       "      <th>3</th>\n",
       "      <td>6643050</td>\n",
       "      <td>8</td>\n",
       "      <td>Roy C McHenry</td>\n",
       "    </tr>\n",
       "    <tr>\n",
       "      <th>4</th>\n",
       "      <td>1010053</td>\n",
       "      <td>12</td>\n",
       "      <td>Wolfgang Köhler</td>\n",
       "    </tr>\n",
       "    <tr>\n",
       "      <th>...</th>\n",
       "      <td>...</td>\n",
       "      <td>...</td>\n",
       "      <td>...</td>\n",
       "    </tr>\n",
       "    <tr>\n",
       "      <th>7655</th>\n",
       "      <td>15872</td>\n",
       "      <td>8344782</td>\n",
       "      <td>Rick Riordan</td>\n",
       "    </tr>\n",
       "    <tr>\n",
       "      <th>7656</th>\n",
       "      <td>941441</td>\n",
       "      <td>10797229</td>\n",
       "      <td>Stephenie Meyer</td>\n",
       "    </tr>\n",
       "    <tr>\n",
       "      <th>7657</th>\n",
       "      <td>153394</td>\n",
       "      <td>11862467</td>\n",
       "      <td>Suzanne Collins</td>\n",
       "    </tr>\n",
       "    <tr>\n",
       "      <th>7658</th>\n",
       "      <td>3389</td>\n",
       "      <td>12672412</td>\n",
       "      <td>Stephen King</td>\n",
       "    </tr>\n",
       "    <tr>\n",
       "      <th>7659</th>\n",
       "      <td>1077326</td>\n",
       "      <td>24454837</td>\n",
       "      <td>J.K. Rowling</td>\n",
       "    </tr>\n",
       "  </tbody>\n",
       "</table>\n",
       "<p>7660 rows × 3 columns</p>\n",
       "</div>"
      ],
      "text/plain": [
       "      id_avtorja  stevilo_ocen                 avtor\n",
       "0        1830746             7  Heruy Wolde Selassie\n",
       "1         580393             7   James Truslow Adams\n",
       "2        3341792             8   Elizabeth M. Ricker\n",
       "3        6643050             8         Roy C McHenry\n",
       "4        1010053            12       Wolfgang Köhler\n",
       "...          ...           ...                   ...\n",
       "7655       15872       8344782          Rick Riordan\n",
       "7656      941441      10797229       Stephenie Meyer\n",
       "7657      153394      11862467       Suzanne Collins\n",
       "7658        3389      12672412          Stephen King\n",
       "7659     1077326      24454837          J.K. Rowling\n",
       "\n",
       "[7660 rows x 3 columns]"
      ]
     },
     "execution_count": 15,
     "metadata": {},
     "output_type": "execute_result"
    }
   ],
   "source": [
    "avtor_ocene = pd.merge(avtorji_po_stevilu_ocen, imena_avtorjev, left_on='id_avtorja', right_on='id_avtorja').drop_duplicates().reset_index(drop=True)\n",
    "avtor_ocene"
   ]
  },
  {
   "cell_type": "markdown",
   "metadata": {},
   "source": [
    "Največkrat je ocenjena J.K.Rowling, ki ima več kot 24 milijonov ocen. Naslednji za njo je Stephen King s pol manj ocen, 12 milijonov, sledijo mu Suzanne Collins, Stephanie Meyer in Rick Riordan."
   ]
  },
  {
   "cell_type": "markdown",
   "metadata": {},
   "source": [
    "#### 5. Katero je bilo najboljše ocenjeno leto?"
   ]
  },
  {
   "cell_type": "code",
   "execution_count": 16,
   "metadata": {},
   "outputs": [
    {
     "data": {
      "text/html": [
       "<div>\n",
       "<style scoped>\n",
       "    .dataframe tbody tr th:only-of-type {\n",
       "        vertical-align: middle;\n",
       "    }\n",
       "\n",
       "    .dataframe tbody tr th {\n",
       "        vertical-align: top;\n",
       "    }\n",
       "\n",
       "    .dataframe thead th {\n",
       "        text-align: right;\n",
       "    }\n",
       "</style>\n",
       "<table border=\"1\" class=\"dataframe\">\n",
       "  <thead>\n",
       "    <tr style=\"text-align: right;\">\n",
       "      <th></th>\n",
       "      <th>povprecna_letna_ocena</th>\n",
       "    </tr>\n",
       "    <tr>\n",
       "      <th>leto</th>\n",
       "      <th></th>\n",
       "    </tr>\n",
       "  </thead>\n",
       "  <tbody>\n",
       "    <tr>\n",
       "      <th>1920</th>\n",
       "      <td>3.89090</td>\n",
       "    </tr>\n",
       "    <tr>\n",
       "      <th>1921</th>\n",
       "      <td>3.83375</td>\n",
       "    </tr>\n",
       "    <tr>\n",
       "      <th>1922</th>\n",
       "      <td>3.89240</td>\n",
       "    </tr>\n",
       "    <tr>\n",
       "      <th>1923</th>\n",
       "      <td>3.85975</td>\n",
       "    </tr>\n",
       "    <tr>\n",
       "      <th>1924</th>\n",
       "      <td>3.83690</td>\n",
       "    </tr>\n",
       "    <tr>\n",
       "      <th>...</th>\n",
       "      <td>...</td>\n",
       "    </tr>\n",
       "    <tr>\n",
       "      <th>2016</th>\n",
       "      <td>3.99445</td>\n",
       "    </tr>\n",
       "    <tr>\n",
       "      <th>2017</th>\n",
       "      <td>4.02805</td>\n",
       "    </tr>\n",
       "    <tr>\n",
       "      <th>2018</th>\n",
       "      <td>3.99300</td>\n",
       "    </tr>\n",
       "    <tr>\n",
       "      <th>2019</th>\n",
       "      <td>4.03310</td>\n",
       "    </tr>\n",
       "    <tr>\n",
       "      <th>2020</th>\n",
       "      <td>4.01465</td>\n",
       "    </tr>\n",
       "  </tbody>\n",
       "</table>\n",
       "<p>101 rows × 1 columns</p>\n",
       "</div>"
      ],
      "text/plain": [
       "      povprecna_letna_ocena\n",
       "leto                       \n",
       "1920                3.89090\n",
       "1921                3.83375\n",
       "1922                3.89240\n",
       "1923                3.85975\n",
       "1924                3.83690\n",
       "...                     ...\n",
       "2016                3.99445\n",
       "2017                4.02805\n",
       "2018                3.99300\n",
       "2019                4.03310\n",
       "2020                4.01465\n",
       "\n",
       "[101 rows x 1 columns]"
      ]
     },
     "execution_count": 16,
     "metadata": {},
     "output_type": "execute_result"
    }
   ],
   "source": [
    "letne_ocene = knjige.groupby('leto').mean().ocena.to_frame('povprecna_letna_ocena')\n",
    "letne_ocene"
   ]
  },
  {
   "cell_type": "code",
   "execution_count": 17,
   "metadata": {},
   "outputs": [
    {
     "data": {
      "text/html": [
       "<div>\n",
       "<style scoped>\n",
       "    .dataframe tbody tr th:only-of-type {\n",
       "        vertical-align: middle;\n",
       "    }\n",
       "\n",
       "    .dataframe tbody tr th {\n",
       "        vertical-align: top;\n",
       "    }\n",
       "\n",
       "    .dataframe thead th {\n",
       "        text-align: right;\n",
       "    }\n",
       "</style>\n",
       "<table border=\"1\" class=\"dataframe\">\n",
       "  <thead>\n",
       "    <tr style=\"text-align: right;\">\n",
       "      <th></th>\n",
       "      <th>povprecna_letna_ocena</th>\n",
       "    </tr>\n",
       "    <tr>\n",
       "      <th>leto</th>\n",
       "      <th></th>\n",
       "    </tr>\n",
       "  </thead>\n",
       "  <tbody>\n",
       "    <tr>\n",
       "      <th>1921</th>\n",
       "      <td>3.83375</td>\n",
       "    </tr>\n",
       "    <tr>\n",
       "      <th>1924</th>\n",
       "      <td>3.83690</td>\n",
       "    </tr>\n",
       "    <tr>\n",
       "      <th>1923</th>\n",
       "      <td>3.85975</td>\n",
       "    </tr>\n",
       "    <tr>\n",
       "      <th>1928</th>\n",
       "      <td>3.86045</td>\n",
       "    </tr>\n",
       "    <tr>\n",
       "      <th>1925</th>\n",
       "      <td>3.88280</td>\n",
       "    </tr>\n",
       "    <tr>\n",
       "      <th>...</th>\n",
       "      <td>...</td>\n",
       "    </tr>\n",
       "    <tr>\n",
       "      <th>1988</th>\n",
       "      <td>4.04010</td>\n",
       "    </tr>\n",
       "    <tr>\n",
       "      <th>1982</th>\n",
       "      <td>4.04575</td>\n",
       "    </tr>\n",
       "    <tr>\n",
       "      <th>2012</th>\n",
       "      <td>4.04930</td>\n",
       "    </tr>\n",
       "    <tr>\n",
       "      <th>1986</th>\n",
       "      <td>4.05445</td>\n",
       "    </tr>\n",
       "    <tr>\n",
       "      <th>1996</th>\n",
       "      <td>4.06005</td>\n",
       "    </tr>\n",
       "  </tbody>\n",
       "</table>\n",
       "<p>101 rows × 1 columns</p>\n",
       "</div>"
      ],
      "text/plain": [
       "      povprecna_letna_ocena\n",
       "leto                       \n",
       "1921                3.83375\n",
       "1924                3.83690\n",
       "1923                3.85975\n",
       "1928                3.86045\n",
       "1925                3.88280\n",
       "...                     ...\n",
       "1988                4.04010\n",
       "1982                4.04575\n",
       "2012                4.04930\n",
       "1986                4.05445\n",
       "1996                4.06005\n",
       "\n",
       "[101 rows x 1 columns]"
      ]
     },
     "execution_count": 17,
     "metadata": {},
     "output_type": "execute_result"
    }
   ],
   "source": [
    "letne_ocene.sort_values('povprecna_letna_ocena')"
   ]
  },
  {
   "cell_type": "markdown",
   "metadata": {},
   "source": [
    "Najboljše je bilo ocenjeno leto 1996, najslabše pa 1921, vendar je razlika med njima razmeroma majhna. Poglejmo še graf:"
   ]
  },
  {
   "cell_type": "code",
   "execution_count": 18,
   "metadata": {},
   "outputs": [
    {
     "data": {
      "text/plain": [
       "<AxesSubplot:xlabel='leto'>"
      ]
     },
     "execution_count": 18,
     "metadata": {},
     "output_type": "execute_result"
    },
    {
     "data": {
      "image/png": "[encoded data removed]",
      "text/plain": [
       "<Figure size 432x288 with 1 Axes>"
      ]
     },
     "metadata": {
      "needs_background": "light"
     },
     "output_type": "display_data"
    }
   ],
   "source": [
    "knjige.groupby('leto').mean().ocena.plot()"
   ]
  },
  {
   "cell_type": "markdown",
   "metadata": {},
   "source": [
    "Povprečna ocena je skozi leta naraščala, po letu 1996 začela upadati, po 2005 pa je ponovno začela naraščati. Čeprav zgleda razlika med najbolje in naslabše ocenjenim letom na grafu velika, je dejanska razlika samo približno 0.20, kar ni tako veliko."
   ]
  },
  {
   "cell_type": "markdown",
   "metadata": {},
   "source": [
    "#### 6. Katero leto je imelo največ ocen?"
   ]
  },
  {
   "cell_type": "code",
   "execution_count": 19,
   "metadata": {},
   "outputs": [
    {
     "data": {
      "text/html": [
       "<div>\n",
       "<style scoped>\n",
       "    .dataframe tbody tr th:only-of-type {\n",
       "        vertical-align: middle;\n",
       "    }\n",
       "\n",
       "    .dataframe tbody tr th {\n",
       "        vertical-align: top;\n",
       "    }\n",
       "\n",
       "    .dataframe thead th {\n",
       "        text-align: right;\n",
       "    }\n",
       "</style>\n",
       "<table border=\"1\" class=\"dataframe\">\n",
       "  <thead>\n",
       "    <tr style=\"text-align: right;\">\n",
       "      <th></th>\n",
       "      <th>stevilo_ocen_na_leto</th>\n",
       "    </tr>\n",
       "    <tr>\n",
       "      <th>leto</th>\n",
       "      <th></th>\n",
       "    </tr>\n",
       "  </thead>\n",
       "  <tbody>\n",
       "    <tr>\n",
       "      <th>1920</th>\n",
       "      <td>771613</td>\n",
       "    </tr>\n",
       "    <tr>\n",
       "      <th>1921</th>\n",
       "      <td>281047</td>\n",
       "    </tr>\n",
       "    <tr>\n",
       "      <th>1922</th>\n",
       "      <td>1505918</td>\n",
       "    </tr>\n",
       "    <tr>\n",
       "      <th>1923</th>\n",
       "      <td>614118</td>\n",
       "    </tr>\n",
       "    <tr>\n",
       "      <th>1924</th>\n",
       "      <td>516467</td>\n",
       "    </tr>\n",
       "    <tr>\n",
       "      <th>...</th>\n",
       "      <td>...</td>\n",
       "    </tr>\n",
       "    <tr>\n",
       "      <th>2016</th>\n",
       "      <td>17527915</td>\n",
       "    </tr>\n",
       "    <tr>\n",
       "      <th>2017</th>\n",
       "      <td>15566998</td>\n",
       "    </tr>\n",
       "    <tr>\n",
       "      <th>2018</th>\n",
       "      <td>15738021</td>\n",
       "    </tr>\n",
       "    <tr>\n",
       "      <th>2019</th>\n",
       "      <td>10563580</td>\n",
       "    </tr>\n",
       "    <tr>\n",
       "      <th>2020</th>\n",
       "      <td>4604548</td>\n",
       "    </tr>\n",
       "  </tbody>\n",
       "</table>\n",
       "<p>101 rows × 1 columns</p>\n",
       "</div>"
      ],
      "text/plain": [
       "      stevilo_ocen_na_leto\n",
       "leto                      \n",
       "1920                771613\n",
       "1921                281047\n",
       "1922               1505918\n",
       "1923                614118\n",
       "1924                516467\n",
       "...                    ...\n",
       "2016              17527915\n",
       "2017              15566998\n",
       "2018              15738021\n",
       "2019              10563580\n",
       "2020               4604548\n",
       "\n",
       "[101 rows x 1 columns]"
      ]
     },
     "execution_count": 19,
     "metadata": {},
     "output_type": "execute_result"
    }
   ],
   "source": [
    "letno_stevilo_ocen = knjige.groupby('leto').sum().stevilo_ocen.to_frame('stevilo_ocen_na_leto')\n",
    "letno_stevilo_ocen"
   ]
  },
  {
   "cell_type": "code",
   "execution_count": 20,
   "metadata": {},
   "outputs": [
    {
     "data": {
      "text/html": [
       "<div>\n",
       "<style scoped>\n",
       "    .dataframe tbody tr th:only-of-type {\n",
       "        vertical-align: middle;\n",
       "    }\n",
       "\n",
       "    .dataframe tbody tr th {\n",
       "        vertical-align: top;\n",
       "    }\n",
       "\n",
       "    .dataframe thead th {\n",
       "        text-align: right;\n",
       "    }\n",
       "</style>\n",
       "<table border=\"1\" class=\"dataframe\">\n",
       "  <thead>\n",
       "    <tr style=\"text-align: right;\">\n",
       "      <th></th>\n",
       "      <th>stevilo_ocen_na_leto</th>\n",
       "    </tr>\n",
       "    <tr>\n",
       "      <th>leto</th>\n",
       "      <th></th>\n",
       "    </tr>\n",
       "  </thead>\n",
       "  <tbody>\n",
       "    <tr>\n",
       "      <th>1921</th>\n",
       "      <td>281047</td>\n",
       "    </tr>\n",
       "    <tr>\n",
       "      <th>1924</th>\n",
       "      <td>516467</td>\n",
       "    </tr>\n",
       "    <tr>\n",
       "      <th>1933</th>\n",
       "      <td>539282</td>\n",
       "    </tr>\n",
       "    <tr>\n",
       "      <th>1944</th>\n",
       "      <td>604113</td>\n",
       "    </tr>\n",
       "    <tr>\n",
       "      <th>1923</th>\n",
       "      <td>614118</td>\n",
       "    </tr>\n",
       "    <tr>\n",
       "      <th>...</th>\n",
       "      <td>...</td>\n",
       "    </tr>\n",
       "    <tr>\n",
       "      <th>2009</th>\n",
       "      <td>26291189</td>\n",
       "    </tr>\n",
       "    <tr>\n",
       "      <th>2008</th>\n",
       "      <td>28918915</td>\n",
       "    </tr>\n",
       "    <tr>\n",
       "      <th>2011</th>\n",
       "      <td>32037492</td>\n",
       "    </tr>\n",
       "    <tr>\n",
       "      <th>2005</th>\n",
       "      <td>32405268</td>\n",
       "    </tr>\n",
       "    <tr>\n",
       "      <th>2012</th>\n",
       "      <td>34806830</td>\n",
       "    </tr>\n",
       "  </tbody>\n",
       "</table>\n",
       "<p>101 rows × 1 columns</p>\n",
       "</div>"
      ],
      "text/plain": [
       "      stevilo_ocen_na_leto\n",
       "leto                      \n",
       "1921                281047\n",
       "1924                516467\n",
       "1933                539282\n",
       "1944                604113\n",
       "1923                614118\n",
       "...                    ...\n",
       "2009              26291189\n",
       "2008              28918915\n",
       "2011              32037492\n",
       "2005              32405268\n",
       "2012              34806830\n",
       "\n",
       "[101 rows x 1 columns]"
      ]
     },
     "execution_count": 20,
     "metadata": {},
     "output_type": "execute_result"
    }
   ],
   "source": [
    "letno_stevilo_ocen.sort_values('stevilo_ocen_na_leto')"
   ]
  },
  {
   "cell_type": "code",
   "execution_count": 21,
   "metadata": {},
   "outputs": [
    {
     "data": {
      "text/plain": [
       "<AxesSubplot:xlabel='leto'>"
      ]
     },
     "execution_count": 21,
     "metadata": {},
     "output_type": "execute_result"
    },
    {
     "data": {
      "image/png": "[encoded data removed]",
      "text/plain": [
       "<Figure size 432x288 with 1 Axes>"
      ]
     },
     "metadata": {
      "needs_background": "light"
     },
     "output_type": "display_data"
    }
   ],
   "source": [
    "knjige.groupby('leto').sum().stevilo_ocen.plot()"
   ]
  },
  {
   "cell_type": "markdown",
   "metadata": {},
   "source": [
    "Največ ocen ima leto 2012, najmanj pa 1921. Število ocen skozi leta narašča. Glede na to da ima povprečno vsako leto več ocen in da je ocena boljša (po prejšnji hipotezi) ali obstaja povezava med njima?"
   ]
  },
  {
   "cell_type": "markdown",
   "metadata": {},
   "source": [
    "#### 7. Ali večje število ocen pomeni boljšo oceno?"
   ]
  },
  {
   "cell_type": "code",
   "execution_count": 22,
   "metadata": {},
   "outputs": [
    {
     "data": {
      "text/plain": [
       "<AxesSubplot:xlabel='stevilo_ocen', ylabel='ocena'>"
      ]
     },
     "execution_count": 22,
     "metadata": {},
     "output_type": "execute_result"
    },
    {
     "data": {
      "image/png": "[encoded data removed]",
      "text/plain": [
       "<Figure size 432x288 with 1 Axes>"
      ]
     },
     "metadata": {
      "needs_background": "light"
     },
     "output_type": "display_data"
    }
   ],
   "source": [
    "knjige.sort_values('ocena').plot.scatter(x='stevilo_ocen', y='ocena')"
   ]
  },
  {
   "cell_type": "markdown",
   "metadata": {},
   "source": [
    "Iz grafa se vidi, imajo knjige z večjim številom ocen navadno tudi višjo oceno. Vidimo, da imajo knjige z več kot tremi milijoni ocenami povprečno višjo oceno, medtem ko imajo knjige z manj kot milijonom ocen zelo razporejene ocene."
   ]
  },
  {
   "cell_type": "code",
   "execution_count": 32,
   "metadata": {},
   "outputs": [
    {
     "data": {
      "text/plain": [
       "4.1414285714285715"
      ]
     },
     "execution_count": 32,
     "metadata": {},
     "output_type": "execute_result"
    }
   ],
   "source": [
    "povprecna_ocena_knjig_z_vec_kot_3M_ocen = knjige[knjige.stevilo_ocen >= 3000000].mean().ocena\n",
    "povprecna_ocena_knjig_z_vec_kot_3M_ocen"
   ]
  },
  {
   "cell_type": "code",
   "execution_count": 34,
   "metadata": {},
   "outputs": [
    {
     "data": {
      "text/plain": [
       "3.989712837837838"
      ]
     },
     "execution_count": 34,
     "metadata": {},
     "output_type": "execute_result"
    }
   ],
   "source": [
    "povprecna_ocena_knjig_z_manj_kot_1M_ocen = knjige[knjige.stevilo_ocen < 1000000].mean().ocena\n",
    "povprecna_ocena_knjig_z_manj_kot_1M_ocen"
   ]
  },
  {
   "cell_type": "markdown",
   "metadata": {},
   "source": [
    "#### 8. Ali imajo boljšo oceno zbirke ali samostojne knjige?"
   ]
  },
  {
   "cell_type": "markdown",
   "metadata": {},
   "source": [
    "Najprej poglejmo koliko knjig je v zbirkah, koliko pa ne:"
   ]
  },
  {
   "cell_type": "code",
   "execution_count": 24,
   "metadata": {},
   "outputs": [
    {
     "data": {
      "text/plain": [
       "5501"
      ]
     },
     "execution_count": 24,
     "metadata": {},
     "output_type": "execute_result"
    }
   ],
   "source": [
    "stevilo_knjig_v_zbirkah = knjige.count().zbirka\n",
    "stevilo_knjig_v_zbirkah"
   ]
  },
  {
   "cell_type": "code",
   "execution_count": 25,
   "metadata": {},
   "outputs": [
    {
     "data": {
      "text/plain": [
       "14699"
      ]
     },
     "execution_count": 25,
     "metadata": {},
     "output_type": "execute_result"
    }
   ],
   "source": [
    "stevilo_knjig_brez_zbirke = 20200 - 5501\n",
    "stevilo_knjig_brez_zbirke"
   ]
  },
  {
   "cell_type": "markdown",
   "metadata": {},
   "source": [
    "Izmed vseh knjig jih je približno četrtina v zbirki in tri četrine samostojnih."
   ]
  },
  {
   "cell_type": "code",
   "execution_count": 26,
   "metadata": {},
   "outputs": [
    {
     "data": {
      "text/html": [
       "<div>\n",
       "<style scoped>\n",
       "    .dataframe tbody tr th:only-of-type {\n",
       "        vertical-align: middle;\n",
       "    }\n",
       "\n",
       "    .dataframe tbody tr th {\n",
       "        vertical-align: top;\n",
       "    }\n",
       "\n",
       "    .dataframe thead th {\n",
       "        text-align: right;\n",
       "    }\n",
       "</style>\n",
       "<table border=\"1\" class=\"dataframe\">\n",
       "  <thead>\n",
       "    <tr style=\"text-align: right;\">\n",
       "      <th></th>\n",
       "      <th>id</th>\n",
       "      <th>naslov</th>\n",
       "      <th>zbirka</th>\n",
       "      <th>id_avtorja</th>\n",
       "      <th>avtor</th>\n",
       "      <th>ocena</th>\n",
       "      <th>stevilo_ocen</th>\n",
       "      <th>leto</th>\n",
       "      <th>glasovi</th>\n",
       "    </tr>\n",
       "  </thead>\n",
       "  <tbody>\n",
       "    <tr>\n",
       "      <th>0</th>\n",
       "      <td>53835</td>\n",
       "      <td>The Age of Innocence</td>\n",
       "      <td>NaN</td>\n",
       "      <td>16</td>\n",
       "      <td>Edith Wharton</td>\n",
       "      <td>3.95</td>\n",
       "      <td>139727</td>\n",
       "      <td>1920</td>\n",
       "      <td>315835</td>\n",
       "    </tr>\n",
       "    <tr>\n",
       "      <th>1</th>\n",
       "      <td>46165</td>\n",
       "      <td>This Side of Paradise</td>\n",
       "      <td>NaN</td>\n",
       "      <td>3190</td>\n",
       "      <td>F. Scott Fitzgerald</td>\n",
       "      <td>3.66</td>\n",
       "      <td>62463</td>\n",
       "      <td>1920</td>\n",
       "      <td>159803</td>\n",
       "    </tr>\n",
       "    <tr>\n",
       "      <th>2</th>\n",
       "      <td>9784</td>\n",
       "      <td>Women in Love</td>\n",
       "      <td>NaN</td>\n",
       "      <td>17623</td>\n",
       "      <td>D.H. Lawrence</td>\n",
       "      <td>3.67</td>\n",
       "      <td>29337</td>\n",
       "      <td>1920</td>\n",
       "      <td>59323</td>\n",
       "    </tr>\n",
       "    <tr>\n",
       "      <th>3</th>\n",
       "      <td>11376</td>\n",
       "      <td>Main Street</td>\n",
       "      <td>NaN</td>\n",
       "      <td>7330</td>\n",
       "      <td>Sinclair Lewis</td>\n",
       "      <td>3.77</td>\n",
       "      <td>23864</td>\n",
       "      <td>1920</td>\n",
       "      <td>50987</td>\n",
       "    </tr>\n",
       "    <tr>\n",
       "      <th>4</th>\n",
       "      <td>4662</td>\n",
       "      <td>The Short Stories</td>\n",
       "      <td>NaN</td>\n",
       "      <td>3190</td>\n",
       "      <td>F. Scott Fitzgerald</td>\n",
       "      <td>4.23</td>\n",
       "      <td>13917</td>\n",
       "      <td>1920</td>\n",
       "      <td>33157</td>\n",
       "    </tr>\n",
       "    <tr>\n",
       "      <th>...</th>\n",
       "      <td>...</td>\n",
       "      <td>...</td>\n",
       "      <td>...</td>\n",
       "      <td>...</td>\n",
       "      <td>...</td>\n",
       "      <td>...</td>\n",
       "      <td>...</td>\n",
       "      <td>...</td>\n",
       "      <td>...</td>\n",
       "    </tr>\n",
       "    <tr>\n",
       "      <th>14694</th>\n",
       "      <td>51373979</td>\n",
       "      <td>He Started It</td>\n",
       "      <td>NaN</td>\n",
       "      <td>17310869</td>\n",
       "      <td>Samantha  Downing</td>\n",
       "      <td>3.59</td>\n",
       "      <td>7065</td>\n",
       "      <td>2020</td>\n",
       "      <td>39449</td>\n",
       "    </tr>\n",
       "    <tr>\n",
       "      <th>14695</th>\n",
       "      <td>48814109</td>\n",
       "      <td>The Lions of Fifth Avenue</td>\n",
       "      <td>NaN</td>\n",
       "      <td>14903705</td>\n",
       "      <td>Fiona  Davis</td>\n",
       "      <td>3.97</td>\n",
       "      <td>10035</td>\n",
       "      <td>2020</td>\n",
       "      <td>47784</td>\n",
       "    </tr>\n",
       "    <tr>\n",
       "      <th>14696</th>\n",
       "      <td>49217470</td>\n",
       "      <td>Brave Girl, Quiet Girl</td>\n",
       "      <td>NaN</td>\n",
       "      <td>126447</td>\n",
       "      <td>Catherine Ryan Hyde</td>\n",
       "      <td>4.23</td>\n",
       "      <td>13258</td>\n",
       "      <td>2020</td>\n",
       "      <td>38464</td>\n",
       "    </tr>\n",
       "    <tr>\n",
       "      <th>14697</th>\n",
       "      <td>51941088</td>\n",
       "      <td>The Comeback</td>\n",
       "      <td>NaN</td>\n",
       "      <td>19475743</td>\n",
       "      <td>Ella Berman</td>\n",
       "      <td>3.82</td>\n",
       "      <td>4931</td>\n",
       "      <td>2020</td>\n",
       "      <td>37904</td>\n",
       "    </tr>\n",
       "    <tr>\n",
       "      <th>14698</th>\n",
       "      <td>52287403</td>\n",
       "      <td>Devoted</td>\n",
       "      <td>NaN</td>\n",
       "      <td>9355</td>\n",
       "      <td>Dean Koontz</td>\n",
       "      <td>4.14</td>\n",
       "      <td>18047</td>\n",
       "      <td>2020</td>\n",
       "      <td>58070</td>\n",
       "    </tr>\n",
       "  </tbody>\n",
       "</table>\n",
       "<p>14699 rows × 9 columns</p>\n",
       "</div>"
      ],
      "text/plain": [
       "             id                     naslov zbirka  id_avtorja  \\\n",
       "0         53835       The Age of Innocence    NaN          16   \n",
       "1         46165      This Side of Paradise    NaN        3190   \n",
       "2          9784              Women in Love    NaN       17623   \n",
       "3         11376                Main Street    NaN        7330   \n",
       "4          4662          The Short Stories    NaN        3190   \n",
       "...         ...                        ...    ...         ...   \n",
       "14694  51373979              He Started It    NaN    17310869   \n",
       "14695  48814109  The Lions of Fifth Avenue    NaN    14903705   \n",
       "14696  49217470     Brave Girl, Quiet Girl    NaN      126447   \n",
       "14697  51941088               The Comeback    NaN    19475743   \n",
       "14698  52287403                    Devoted    NaN        9355   \n",
       "\n",
       "                     avtor  ocena  stevilo_ocen  leto  glasovi  \n",
       "0            Edith Wharton   3.95        139727  1920   315835  \n",
       "1      F. Scott Fitzgerald   3.66         62463  1920   159803  \n",
       "2            D.H. Lawrence   3.67         29337  1920    59323  \n",
       "3           Sinclair Lewis   3.77         23864  1920    50987  \n",
       "4      F. Scott Fitzgerald   4.23         13917  1920    33157  \n",
       "...                    ...    ...           ...   ...      ...  \n",
       "14694    Samantha  Downing   3.59          7065  2020    39449  \n",
       "14695         Fiona  Davis   3.97         10035  2020    47784  \n",
       "14696  Catherine Ryan Hyde   4.23         13258  2020    38464  \n",
       "14697          Ella Berman   3.82          4931  2020    37904  \n",
       "14698          Dean Koontz   4.14         18047  2020    58070  \n",
       "\n",
       "[14699 rows x 9 columns]"
      ]
     },
     "execution_count": 26,
     "metadata": {},
     "output_type": "execute_result"
    }
   ],
   "source": [
    "knjige_brez_zbirke = knjige[pd.isnull(knjige['zbirka'])].reset_index(drop=True)\n",
    "knjige_brez_zbirke"
   ]
  },
  {
   "cell_type": "code",
   "execution_count": 27,
   "metadata": {},
   "outputs": [
    {
     "data": {
      "text/plain": [
       "id              4.702102e+06\n",
       "zbirka                   NaN\n",
       "id_avtorja      1.101726e+06\n",
       "ocena           3.979865e+00\n",
       "stevilo_ocen    2.819723e+04\n",
       "leto            1.964951e+03\n",
       "glasovi         5.492229e+04\n",
       "dtype: float64"
      ]
     },
     "execution_count": 27,
     "metadata": {},
     "output_type": "execute_result"
    }
   ],
   "source": [
    "povprecje_knjige_brez_zbirke = knjige_brez_zbirke.mean()\n",
    "povprecje_knjige_brez_zbirke"
   ]
  },
  {
   "cell_type": "code",
   "execution_count": 28,
   "metadata": {},
   "outputs": [
    {
     "data": {
      "text/html": [
       "<div>\n",
       "<style scoped>\n",
       "    .dataframe tbody tr th:only-of-type {\n",
       "        vertical-align: middle;\n",
       "    }\n",
       "\n",
       "    .dataframe tbody tr th {\n",
       "        vertical-align: top;\n",
       "    }\n",
       "\n",
       "    .dataframe thead th {\n",
       "        text-align: right;\n",
       "    }\n",
       "</style>\n",
       "<table border=\"1\" class=\"dataframe\">\n",
       "  <thead>\n",
       "    <tr style=\"text-align: right;\">\n",
       "      <th></th>\n",
       "      <th>id</th>\n",
       "      <th>naslov</th>\n",
       "      <th>zbirka</th>\n",
       "      <th>id_avtorja</th>\n",
       "      <th>avtor</th>\n",
       "      <th>ocena</th>\n",
       "      <th>stevilo_ocen</th>\n",
       "      <th>leto</th>\n",
       "      <th>glasovi</th>\n",
       "    </tr>\n",
       "  </thead>\n",
       "  <tbody>\n",
       "    <tr>\n",
       "      <th>0</th>\n",
       "      <td>16343</td>\n",
       "      <td>The Mysterious Affair at Styles</td>\n",
       "      <td>Hercule Poirot</td>\n",
       "      <td>123715</td>\n",
       "      <td>Agatha Christie</td>\n",
       "      <td>3.99</td>\n",
       "      <td>256238</td>\n",
       "      <td>1920</td>\n",
       "      <td>465296</td>\n",
       "    </tr>\n",
       "    <tr>\n",
       "      <th>1</th>\n",
       "      <td>325421</td>\n",
       "      <td>The Story of Doctor Dolittle</td>\n",
       "      <td>Doctor Dolittle</td>\n",
       "      <td>70762</td>\n",
       "      <td>Hugh Lofting</td>\n",
       "      <td>3.97</td>\n",
       "      <td>45609</td>\n",
       "      <td>1920</td>\n",
       "      <td>62518</td>\n",
       "    </tr>\n",
       "    <tr>\n",
       "      <th>2</th>\n",
       "      <td>6217</td>\n",
       "      <td>Kristin Lavransdatter</td>\n",
       "      <td>Kristin Lavransdatter</td>\n",
       "      <td>4203</td>\n",
       "      <td>Sigrid Undset</td>\n",
       "      <td>4.29</td>\n",
       "      <td>9017</td>\n",
       "      <td>1920</td>\n",
       "      <td>31771</td>\n",
       "    </tr>\n",
       "    <tr>\n",
       "      <th>3</th>\n",
       "      <td>765300</td>\n",
       "      <td>Glinda of Oz</td>\n",
       "      <td>Oz</td>\n",
       "      <td>3242</td>\n",
       "      <td>L. Frank Baum</td>\n",
       "      <td>3.93</td>\n",
       "      <td>5829</td>\n",
       "      <td>1920</td>\n",
       "      <td>14443</td>\n",
       "    </tr>\n",
       "    <tr>\n",
       "      <th>4</th>\n",
       "      <td>6220</td>\n",
       "      <td>The Wreath</td>\n",
       "      <td>Kristin Lavransdatter</td>\n",
       "      <td>4203</td>\n",
       "      <td>Sigrid Undset</td>\n",
       "      <td>4.02</td>\n",
       "      <td>5301</td>\n",
       "      <td>1920</td>\n",
       "      <td>13910</td>\n",
       "    </tr>\n",
       "    <tr>\n",
       "      <th>...</th>\n",
       "      <td>...</td>\n",
       "      <td>...</td>\n",
       "      <td>...</td>\n",
       "      <td>...</td>\n",
       "      <td>...</td>\n",
       "      <td>...</td>\n",
       "      <td>...</td>\n",
       "      <td>...</td>\n",
       "      <td>...</td>\n",
       "    </tr>\n",
       "    <tr>\n",
       "      <th>5496</th>\n",
       "      <td>49884715</td>\n",
       "      <td>Find Me</td>\n",
       "      <td>Inland Empire</td>\n",
       "      <td>4327517</td>\n",
       "      <td>Anne Frasier</td>\n",
       "      <td>4.15</td>\n",
       "      <td>18672</td>\n",
       "      <td>2020</td>\n",
       "      <td>51844</td>\n",
       "    </tr>\n",
       "    <tr>\n",
       "      <th>5497</th>\n",
       "      <td>51518972</td>\n",
       "      <td>Majesty</td>\n",
       "      <td>American Royals</td>\n",
       "      <td>13499819</td>\n",
       "      <td>Katharine McGee</td>\n",
       "      <td>3.88</td>\n",
       "      <td>13125</td>\n",
       "      <td>2020</td>\n",
       "      <td>45806</td>\n",
       "    </tr>\n",
       "    <tr>\n",
       "      <th>5498</th>\n",
       "      <td>43565384</td>\n",
       "      <td>The Night Country</td>\n",
       "      <td>The Hazel Wood</td>\n",
       "      <td>8384949</td>\n",
       "      <td>Melissa Albert</td>\n",
       "      <td>3.74</td>\n",
       "      <td>7094</td>\n",
       "      <td>2020</td>\n",
       "      <td>39014</td>\n",
       "    </tr>\n",
       "    <tr>\n",
       "      <th>5499</th>\n",
       "      <td>49381341</td>\n",
       "      <td>Peace Talks</td>\n",
       "      <td>The Dresden Files</td>\n",
       "      <td>10746</td>\n",
       "      <td>Jim Butcher</td>\n",
       "      <td>4.21</td>\n",
       "      <td>22215</td>\n",
       "      <td>2020</td>\n",
       "      <td>71539</td>\n",
       "    </tr>\n",
       "    <tr>\n",
       "      <th>5500</th>\n",
       "      <td>49021976</td>\n",
       "      <td>Rhythm of War</td>\n",
       "      <td>The Stormlight Archive</td>\n",
       "      <td>38550</td>\n",
       "      <td>Brandon Sanderson</td>\n",
       "      <td>4.55</td>\n",
       "      <td>544</td>\n",
       "      <td>2020</td>\n",
       "      <td>49280</td>\n",
       "    </tr>\n",
       "  </tbody>\n",
       "</table>\n",
       "<p>5501 rows × 9 columns</p>\n",
       "</div>"
      ],
      "text/plain": [
       "            id                           naslov                  zbirka  \\\n",
       "0        16343  The Mysterious Affair at Styles          Hercule Poirot   \n",
       "1       325421     The Story of Doctor Dolittle         Doctor Dolittle   \n",
       "2         6217            Kristin Lavransdatter   Kristin Lavransdatter   \n",
       "3       765300                     Glinda of Oz                      Oz   \n",
       "4         6220                       The Wreath   Kristin Lavransdatter   \n",
       "...        ...                              ...                     ...   \n",
       "5496  49884715                          Find Me           Inland Empire   \n",
       "5497  51518972                          Majesty         American Royals   \n",
       "5498  43565384                The Night Country          The Hazel Wood   \n",
       "5499  49381341                      Peace Talks       The Dresden Files   \n",
       "5500  49021976                    Rhythm of War  The Stormlight Archive   \n",
       "\n",
       "      id_avtorja              avtor  ocena  stevilo_ocen  leto  glasovi  \n",
       "0         123715    Agatha Christie   3.99        256238  1920   465296  \n",
       "1          70762       Hugh Lofting   3.97         45609  1920    62518  \n",
       "2           4203      Sigrid Undset   4.29          9017  1920    31771  \n",
       "3           3242      L. Frank Baum   3.93          5829  1920    14443  \n",
       "4           4203      Sigrid Undset   4.02          5301  1920    13910  \n",
       "...          ...                ...    ...           ...   ...      ...  \n",
       "5496     4327517       Anne Frasier   4.15         18672  2020    51844  \n",
       "5497    13499819    Katharine McGee   3.88         13125  2020    45806  \n",
       "5498     8384949     Melissa Albert   3.74          7094  2020    39014  \n",
       "5499       10746        Jim Butcher   4.21         22215  2020    71539  \n",
       "5500       38550  Brandon Sanderson   4.55           544  2020    49280  \n",
       "\n",
       "[5501 rows x 9 columns]"
      ]
     },
     "execution_count": 28,
     "metadata": {},
     "output_type": "execute_result"
    }
   ],
   "source": [
    "knjige_v_zbirki = knjige[pd.notnull(knjige['zbirka'])].reset_index(drop=True)\n",
    "knjige_v_zbirki"
   ]
  },
  {
   "cell_type": "code",
   "execution_count": 29,
   "metadata": {},
   "outputs": [
    {
     "data": {
      "text/plain": [
       "id              5.030567e+06\n",
       "id_avtorja      1.023958e+06\n",
       "ocena           4.017673e+00\n",
       "stevilo_ocen    6.283883e+04\n",
       "leto            1.983490e+03\n",
       "glasovi         1.045242e+05\n",
       "dtype: float64"
      ]
     },
     "execution_count": 29,
     "metadata": {},
     "output_type": "execute_result"
    }
   ],
   "source": [
    "povprecje_knjige_v_zbirki = knjige_v_zbirki.mean()\n",
    "povprecje_knjige_v_zbirki"
   ]
  },
  {
   "cell_type": "markdown",
   "metadata": {},
   "source": [
    "Boljšo oceno imajo knjige v zbirki (vendar je razlika zelo majhna), vendar imajo povprečno veliko večje število ocen knjige v zbirki."
   ]
  },
  {
   "cell_type": "code",
   "execution_count": null,
   "metadata": {},
   "outputs": [],
   "source": []
  }
 ],
 "metadata": {
  "kernelspec": {
   "display_name": "Python 3",
   "language": "python",
   "name": "python3"
  },
  "language_info": {
   "codemirror_mode": {
    "name": "ipython",
    "version": 3
   },
   "file_extension": ".py",
   "mimetype": "text/x-python",
   "name": "python",
   "nbconvert_exporter": "python",
   "pygments_lexer": "ipython3",
   "version": "3.8.6"
  }
 },
 "nbformat": 4,
 "nbformat_minor": 4
}
